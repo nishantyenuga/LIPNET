{
  "nbformat": 4,
  "nbformat_minor": 0,
  "metadata": {
    "colab": {
      "provenance": [],
      "include_colab_link": true
    },
    "kernelspec": {
      "name": "python3",
      "display_name": "Python 3"
    },
    "language_info": {
      "name": "python"
    }
  },
  "cells": [
    {
      "cell_type": "markdown",
      "metadata": {
        "id": "view-in-github",
        "colab_type": "text"
      },
      "source": [
        "<a href=\"https://colab.research.google.com/github/nishantyenuga/LIPNET/blob/main/Go_Fish_Card_Game_1002219189.ipynb\" target=\"_parent\"><img src=\"https://colab.research.google.com/assets/colab-badge.svg\" alt=\"Open In Colab\"/></a>"
      ]
    },
    {
      "cell_type": "markdown",
      "metadata": {
        "id": "IomjkHgqwz2H"
      },
      "source": [
        "# DASC 5300, Fall2024, University of Texas at Arlington\n",
        "# PA4 \"Implementing the Go Fish Card Game in Python\"\n",
        "\n",
        "\n",
        "## **Academic Honesty**\n",
        "This assignment must be done individually and independently. You must implement the whole assignment by yourself. Academic dishonesty is not tolerated.\n",
        "\n",
        "## **Requirements**\n",
        "\n",
        "1.   When you work on this assignment, you should make a copy of this notebook in Google Colab. This can be done using the option `File > Save a copy in Drive` in Google Colab.\n",
        "\n",
        "2.  To submit your assignment, download your Colab into a .ipynb file. This\n",
        "can be done using the option `Download > Download .ipynb` in Google Colab. Submit the downloaded .ipynb file/ .zip into the PA4 entry in Canvas.\n"
      ]
    },
    {
      "cell_type": "markdown",
      "source": [
        "## **Description**\n",
        "\n",
        "Implementing the Go Fish card game using stacks and queues in Python. The program should simulate a game between two players, where each player draws cards from a central deck to collect sets of matching cards. The game ends when the deck is empty, and the player with the most sets at the end of the game wins. The program should use QUEUE to represent each player's hand and a STACK to represent the central deck of cards. The game should be playable in the command-line interface, with the option to specify the number of players and the number of cards dealt to each player at the start of the game.\""
      ],
      "metadata": {
        "id": "7bt5YSaL3V9M"
      }
    },
    {
      "cell_type": "code",
      "source": [
        "import random\n",
        "from collections import deque\n",
        "\n",
        "def create_deck():\n",
        "    ranks = ['A', 'K', 'Q', 'J', '10', '9', '8', '7', '6', '5', '4', '3', '2']\n",
        "    deck = []\n",
        "    for _ in range(4):\n",
        "        deck.extend(ranks)\n",
        "    random.shuffle(deck)\n",
        "    return deck\n",
        "\n",
        "def deal_initial_cards(deck, num_plyrs, crds_per_plyr):\n",
        "    # Initial cards to players\n",
        "    players_hands = [deque() for _ in range(num_plyrs)]\n",
        "\n",
        "    for _ in range(crds_per_plyr):\n",
        "        for plyr_hand in players_hands:\n",
        "            if deck:  # Check if cards remain in the deck\n",
        "                plyr_hand.append(deck.pop())  # Pop card from stack and add to queue\n",
        "\n",
        "    return players_hands\n",
        "\n",
        "def count_and_remove_pairs(plyr_hand):\n",
        "    # Count and remove pairs from a player's hand\n",
        "    pair_counts = {}\n",
        "    for card in list(plyr_hand):\n",
        "        pair_counts[card] = pair_counts.get(card, 0) + 1\n",
        "\n",
        "    pairs = 0\n",
        "    for card, count in pair_counts.items():\n",
        "        if count >= 2:\n",
        "            pairs += count // 2\n",
        "            for _ in range(count // 2 * 2):\n",
        "                plyr_hand.remove(card)  # Remove paired cards\n",
        "    return pairs\n",
        "\n",
        "def get_valid_player_input(current_player, num_players):\n",
        "\n",
        "    while True:\n",
        "        try:\n",
        "            target_player = int(input(f\"Choose a player to ask (1-{num_players}, not {current_player}): \"))\n",
        "            if target_player == current_player or target_player < 1 or target_player > num_players:\n",
        "                print(\"Invalid entry, select a different valid player.\")\n",
        "            else:\n",
        "                return target_player\n",
        "        except ValueError:\n",
        "            print(\"Invalid input. Please enter a number.\")\n",
        "\n",
        "def play_go_fish():\n",
        "    # Get number of players and cards per player\n",
        "    num_players = int(input(\"Enter the number of players: \"))\n",
        "    cards_per_player = int(input(\"Enter the number of cards for each player: \"))\n",
        "\n",
        "    # Create and deal initial deck\n",
        "    deck = create_deck()\n",
        "    players_hands = deal_initial_cards(deck, num_players, cards_per_player)\n",
        "    players_pairs = [0] * num_players\n",
        "\n",
        "    # Track game state\n",
        "    current_player = 1\n",
        "\n",
        "    # Main game loop\n",
        "    while deck:  # Continue as long as the deck has cards\n",
        "        print(f\"\\nPlayer {current_player}'s turn\")\n",
        "        current_hand = players_hands[current_player - 1]\n",
        "\n",
        "        # Skip if player has no cards\n",
        "        if not current_hand:\n",
        "            print(f\"Player {current_player} has no cards left.\")\n",
        "            current_player = (current_player % num_players) + 1\n",
        "            continue\n",
        "\n",
        "        # Display current hand\n",
        "        print(f\"Your hand: {list(current_hand)}\")\n",
        "\n",
        "        # Collect pairs\n",
        "        pairs = count_and_remove_pairs(current_hand)\n",
        "        players_pairs[current_player - 1] += pairs  # Accumulate total pairs\n",
        "        print(f\"Player {current_player} formed {pairs} set(s).\")\n",
        "        print(f\"Total sets for Player {current_player}: {players_pairs[current_player - 1]}\")\n",
        "\n",
        "        # Get target player\n",
        "        target_player = get_valid_player_input(current_player, num_players)\n",
        "        rank = input(\"Enter card rank to ask for: \").upper()\n",
        "\n",
        "        # Ask for card\n",
        "        target_hand = players_hands[target_player - 1]\n",
        "        matching_cards = [card for card in target_hand if card == rank]\n",
        "\n",
        "        if matching_cards:\n",
        "            print(f\"Player {target_player} gave {len(matching_cards)} card(s).\")\n",
        "            current_hand.extend(matching_cards)  # Transfer cards\n",
        "            for card in matching_cards:\n",
        "                target_hand.remove(card)  # Remove from target player's hand\n",
        "        else:\n",
        "            print(\"Go Fish!\")\n",
        "            if deck:\n",
        "                drawn_card = deck.pop()  # Draw from stack\n",
        "                print(f\"Drew: {drawn_card}\")\n",
        "                current_hand.append(drawn_card)  # Add to player's queue\n",
        "            else:\n",
        "                print(\"No cards left in the deck.\")\n",
        "\n",
        "        # Move to the next player\n",
        "        current_player = (current_player % num_players) + 1\n",
        "\n",
        "    # Game ends when deck is empty\n",
        "    print(\"\\nThe deck is empty. Game Over!\")\n",
        "\n",
        "    # Determine winner\n",
        "    max_pairs = max(players_pairs)\n",
        "    winners = [i + 1 for i, pairs in enumerate(players_pairs) if pairs == max_pairs]\n",
        "\n",
        "    if len(winners) == 1:\n",
        "        print(f\"Player {winners[0]} wins with {max_pairs} sets!\")\n",
        "    else:\n",
        "        print(f\"Tie between players {winners} with {max_pairs} sets!\")\n",
        "\n",
        "print(\"Welcome to Go Fish!\")\n",
        "play_go_fish()\n"
      ],
      "metadata": {
        "id": "tTGPYU4u5G4x",
        "colab": {
          "base_uri": "https://localhost:8080/"
        },
        "outputId": "f2ac442b-a575-4edb-deb9-60e5a97d4dde"
      },
      "execution_count": null,
      "outputs": [
        {
          "output_type": "stream",
          "name": "stdout",
          "text": [
            "Welcome to Go Fish!\n",
            "Enter the number of players: 2\n",
            "Enter the number of cards for each player: 26\n",
            "\n",
            "The deck is empty. Game Over!\n",
            "Tie between players [1, 2] with 0 sets!\n"
          ]
        }
      ]
    },
    {
      "cell_type": "code",
      "source": [],
      "metadata": {
        "id": "0GcT3W5TaZXy"
      },
      "execution_count": null,
      "outputs": []
    }
  ]
}